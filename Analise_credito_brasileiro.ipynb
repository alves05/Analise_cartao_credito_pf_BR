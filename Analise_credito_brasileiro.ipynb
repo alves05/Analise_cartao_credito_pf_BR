{
 "cells": [
  {
   "cell_type": "markdown",
   "metadata": {},
   "source": [
    "# Análise da Inadimplência dos Clientes de Cartão de Crédito"
   ]
  },
  {
   "cell_type": "markdown",
   "metadata": {},
   "source": [
    "<img src='./cartao.jpeg' width=450>"
   ]
  },
  {
   "cell_type": "markdown",
   "metadata": {},
   "source": [
    "### Bibliotecas"
   ]
  },
  {
   "cell_type": "code",
   "execution_count": null,
   "metadata": {},
   "outputs": [],
   "source": [
    "import requests\n",
    "import zipfile\n",
    "import io\n",
    "import pandas as pd\n",
    "import matplotlib.pyplot as plt\n",
    "import seaborn as sns\n",
    "import re\n",
    "from scipy import stats\n",
    "import math\n",
    "import geopandas as gpd\n",
    "import folium\n",
    "from folium.plugins import HeatMap\n",
    "\n",
    "import warnings\n",
    "warnings.filterwarnings('ignore')"
   ]
  },
  {
   "cell_type": "markdown",
   "metadata": {},
   "source": [
    "### Carregando a Base de Dados"
   ]
  },
  {
   "cell_type": "code",
   "execution_count": null,
   "metadata": {},
   "outputs": [],
   "source": [
    "def processar_arquivos_zip(zip_content, tipo_cliente, colunas):\n",
    "    bases = []\n",
    "    with zipfile.ZipFile(io.BytesIO(zip_content)) as z:\n",
    "        for mes in range(1, 13):\n",
    "            file_name = f'planilha_2023{mes:02d}.csv'\n",
    "            if file_name in z.namelist():\n",
    "                with z.open(file_name) as file:\n",
    "                    dados = pd.read_csv(file, sep=';')\n",
    "                    dados = dados.iloc[:, colunas]\n",
    "                    dados = dados[dados['cliente'] == tipo_cliente]\n",
    "                    bases.append(dados)\n",
    "    \n",
    "    dataset = pd.concat(bases, axis=0)\n",
    "    return dataset"
   ]
  },
  {
   "cell_type": "code",
   "execution_count": null,
   "metadata": {},
   "outputs": [],
   "source": [
    "tipo_cliente = 'PF'\n",
    "colunas = [0, 1, 2, 4, 5, 8, 9, 11, 12, 20, 21, 22]\n",
    "url = \"https://www.bcb.gov.br/pda/desig/planilha_2023.zip\"\n",
    "\n",
    "response = requests.get(url)\n",
    "if response.status_code == 200:\n",
    "    base = processar_arquivos_zip(response.content, tipo_cliente, colunas)\n",
    "else:\n",
    "    print(\"Erro ao fazer o download do arquivo.\")"
   ]
  },
  {
   "cell_type": "code",
   "execution_count": 33,
   "metadata": {},
   "outputs": [
    {
     "data": {
      "text/html": [
       "<div>\n",
       "<style scoped>\n",
       "    .dataframe tbody tr th:only-of-type {\n",
       "        vertical-align: middle;\n",
       "    }\n",
       "\n",
       "    .dataframe tbody tr th {\n",
       "        vertical-align: top;\n",
       "    }\n",
       "\n",
       "    .dataframe thead th {\n",
       "        text-align: right;\n",
       "    }\n",
       "</style>\n",
       "<table border=\"1\" class=\"dataframe\">\n",
       "  <thead>\n",
       "    <tr style=\"text-align: right;\">\n",
       "      <th></th>\n",
       "      <th>data_base</th>\n",
       "      <th>uf</th>\n",
       "      <th>tcb</th>\n",
       "      <th>cliente</th>\n",
       "      <th>ocupacao</th>\n",
       "      <th>porte</th>\n",
       "      <th>modalidade</th>\n",
       "      <th>indexador</th>\n",
       "      <th>numero_de_operacoes</th>\n",
       "      <th>carteira_ativa</th>\n",
       "      <th>carteira_inadimplida_arrastada</th>\n",
       "      <th>ativo_problematico</th>\n",
       "    </tr>\n",
       "  </thead>\n",
       "  <tbody>\n",
       "    <tr>\n",
       "      <th>0</th>\n",
       "      <td>2023-01-31</td>\n",
       "      <td>AC</td>\n",
       "      <td>Bancário</td>\n",
       "      <td>PF</td>\n",
       "      <td>PF - Aposentado/pensionista</td>\n",
       "      <td>PF - Mais de 1 a 2 salários mínimos</td>\n",
       "      <td>PF - Cartão de crédito</td>\n",
       "      <td>Prefixado</td>\n",
       "      <td>20</td>\n",
       "      <td>11861,23</td>\n",
       "      <td>0,00</td>\n",
       "      <td>3508,25</td>\n",
       "    </tr>\n",
       "    <tr>\n",
       "      <th>1</th>\n",
       "      <td>2023-01-31</td>\n",
       "      <td>AC</td>\n",
       "      <td>Bancário</td>\n",
       "      <td>PF</td>\n",
       "      <td>PF - Aposentado/pensionista</td>\n",
       "      <td>PF - Mais de 1 a 2 salários mínimos</td>\n",
       "      <td>PF - Empréstimo sem consignação em folha</td>\n",
       "      <td>Prefixado</td>\n",
       "      <td>&lt;= 15</td>\n",
       "      <td>1203,13</td>\n",
       "      <td>0,00</td>\n",
       "      <td>0,00</td>\n",
       "    </tr>\n",
       "    <tr>\n",
       "      <th>2</th>\n",
       "      <td>2023-01-31</td>\n",
       "      <td>AC</td>\n",
       "      <td>Bancário</td>\n",
       "      <td>PF</td>\n",
       "      <td>PF - Autônomo</td>\n",
       "      <td>PF - Mais de 1 a 2 salários mínimos</td>\n",
       "      <td>PF - Cartão de crédito</td>\n",
       "      <td>Prefixado</td>\n",
       "      <td>&lt;= 15</td>\n",
       "      <td>3623,48</td>\n",
       "      <td>0,00</td>\n",
       "      <td>0,00</td>\n",
       "    </tr>\n",
       "    <tr>\n",
       "      <th>3</th>\n",
       "      <td>2023-01-31</td>\n",
       "      <td>AC</td>\n",
       "      <td>Bancário</td>\n",
       "      <td>PF</td>\n",
       "      <td>PF - Empregado de empresa privada</td>\n",
       "      <td>PF - Mais de 1 a 2 salários mínimos</td>\n",
       "      <td>PF - Cartão de crédito</td>\n",
       "      <td>Prefixado</td>\n",
       "      <td>26</td>\n",
       "      <td>17963,23</td>\n",
       "      <td>1496,98</td>\n",
       "      <td>3061,30</td>\n",
       "    </tr>\n",
       "    <tr>\n",
       "      <th>4</th>\n",
       "      <td>2023-01-31</td>\n",
       "      <td>AC</td>\n",
       "      <td>Bancário</td>\n",
       "      <td>PF</td>\n",
       "      <td>PF - Empregado de empresa privada</td>\n",
       "      <td>PF - Mais de 2 a 3 salários mínimos</td>\n",
       "      <td>PF - Cartão de crédito</td>\n",
       "      <td>Prefixado</td>\n",
       "      <td>&lt;= 15</td>\n",
       "      <td>2855,66</td>\n",
       "      <td>2246,28</td>\n",
       "      <td>2855,66</td>\n",
       "    </tr>\n",
       "  </tbody>\n",
       "</table>\n",
       "</div>"
      ],
      "text/plain": [
       "    data_base  uf       tcb cliente                           ocupacao  \\\n",
       "0  2023-01-31  AC  Bancário      PF        PF - Aposentado/pensionista   \n",
       "1  2023-01-31  AC  Bancário      PF        PF - Aposentado/pensionista   \n",
       "2  2023-01-31  AC  Bancário      PF                      PF - Autônomo   \n",
       "3  2023-01-31  AC  Bancário      PF  PF - Empregado de empresa privada   \n",
       "4  2023-01-31  AC  Bancário      PF  PF - Empregado de empresa privada   \n",
       "\n",
       "                                           porte  \\\n",
       "0  PF - Mais de 1 a 2 salários mínimos             \n",
       "1  PF - Mais de 1 a 2 salários mínimos             \n",
       "2  PF - Mais de 1 a 2 salários mínimos             \n",
       "3  PF - Mais de 1 a 2 salários mínimos             \n",
       "4  PF - Mais de 2 a 3 salários mínimos             \n",
       "\n",
       "                                 modalidade  indexador numero_de_operacoes  \\\n",
       "0                    PF - Cartão de crédito  Prefixado                  20   \n",
       "1  PF - Empréstimo sem consignação em folha  Prefixado               <= 15   \n",
       "2                    PF - Cartão de crédito  Prefixado               <= 15   \n",
       "3                    PF - Cartão de crédito  Prefixado                  26   \n",
       "4                    PF - Cartão de crédito  Prefixado               <= 15   \n",
       "\n",
       "  carteira_ativa carteira_inadimplida_arrastada ativo_problematico  \n",
       "0       11861,23                           0,00            3508,25  \n",
       "1        1203,13                           0,00               0,00  \n",
       "2        3623,48                           0,00               0,00  \n",
       "3       17963,23                        1496,98            3061,30  \n",
       "4        2855,66                        2246,28            2855,66  "
      ]
     },
     "execution_count": 33,
     "metadata": {},
     "output_type": "execute_result"
    }
   ],
   "source": [
    "# Visualizando primeiras linhas da base de dados\n",
    "base.head()"
   ]
  },
  {
   "cell_type": "code",
   "execution_count": 34,
   "metadata": {},
   "outputs": [
    {
     "data": {
      "text/plain": [
       "'linhas: 1674267, colunas: 12'"
      ]
     },
     "execution_count": 34,
     "metadata": {},
     "output_type": "execute_result"
    }
   ],
   "source": [
    "# Dimensões do base\n",
    "f'linhas: {base.shape[0]}, colunas: {base.shape[1]}'"
   ]
  },
  {
   "cell_type": "markdown",
   "metadata": {},
   "source": [
    "**Para a análise de individamento de pessoas físicas por cartão de crédito usaremos as seguintes variáveis**:\n",
    "\n",
    "- **data_base**: Data da coleta dos dados;\n",
    "- **uf**: Unidade federativa brasileira;\n",
    "- **tcb**: Tipo de consolidado bancário;\n",
    "- **ocupacao**: Natureza de ocupação das pessoas físicas;\n",
    "- **porte**: Porte financeiro do cliente;\n",
    "- **indexador**: Indexadores das operações;\n",
    "- **carteira_ativa**: Soma dos valores a vencer e vencidos;\n",
    "- **carteira_inadimplida_arrastada**: Soma das operações de crédito que estão vencidas há mais de 90 dias;\n",
    "- **ativo_problematico**: São operações as quais existem indícios que não serão integralmente honradas."
   ]
  },
  {
   "cell_type": "markdown",
   "metadata": {},
   "source": [
    "### Tratamento da Base de dados"
   ]
  },
  {
   "cell_type": "code",
   "execution_count": null,
   "metadata": {},
   "outputs": [
    {
     "data": {
      "text/plain": [
       "data_base                         0\n",
       "uf                                0\n",
       "tcb                               0\n",
       "cliente                           0\n",
       "ocupacao                          0\n",
       "porte                             0\n",
       "modalidade                        0\n",
       "indexador                         0\n",
       "numero_de_operacoes               0\n",
       "carteira_ativa                    0\n",
       "carteira_inadimplida_arrastada    0\n",
       "ativo_problematico                0\n",
       "dtype: int64"
      ]
     },
     "execution_count": 11,
     "metadata": {},
     "output_type": "execute_result"
    }
   ],
   "source": [
    "# Verificando dados nulos\n",
    "base.isnull().sum()"
   ]
  },
  {
   "cell_type": "code",
   "execution_count": 7,
   "metadata": {},
   "outputs": [],
   "source": [
    "# Padronizando as datas\n",
    "base['data_base'] = pd.to_datetime(base['data_base'], format='%Y-%m-%d').dt.date"
   ]
  },
  {
   "cell_type": "code",
   "execution_count": 8,
   "metadata": {},
   "outputs": [],
   "source": [
    "# transformando os valores em float\n",
    "def transformando_valores_float(valor):\n",
    "    valor = re.sub(r'\\s|,', '.', valor)\n",
    "    return float(valor)\n",
    "\n",
    "base['carteira_ativa'] = base['carteira_ativa'].apply(transformando_valores_float)\n",
    "base['carteira_inadimplida_arrastada'] = base['carteira_inadimplida_arrastada'].apply(transformando_valores_float)\n",
    "base['ativo_problematico'] = base['ativo_problematico'].apply(transformando_valores_float) "
   ]
  },
  {
   "cell_type": "code",
   "execution_count": 9,
   "metadata": {},
   "outputs": [],
   "source": [
    "# Limpando dados das variáveis\n",
    "def limpar_porte_modalidade_ocupacao(valor):\n",
    "    valor = valor.replace('PF - ', '').replace('Mais de ', '').replace(' salários mínimos', '').replace(' salário mínimo', '').replace('Sem rendimento', '0').replace('Até 1', '0 a 1').replace('Acima de 20', '> 20').strip()\n",
    "    return valor\n",
    "\n",
    "base['porte'] = base['porte'].apply(limpar_porte_modalidade_ocupacao)\n",
    "base['modalidade'] = base['modalidade'].apply(limpar_porte_modalidade_ocupacao)\n",
    "base['ocupacao'] = base['ocupacao'].apply(limpar_porte_modalidade_ocupacao)\n",
    "base['numero_de_operacoes'] = base['numero_de_operacoes'].replace('<= ', '', regex=True).astype(int)"
   ]
  },
  {
   "cell_type": "code",
   "execution_count": 10,
   "metadata": {},
   "outputs": [],
   "source": [
    "# Removendo Outliers\n",
    "def remove_outliers(dados, variavel):\n",
    "    q1 = dados[variavel].quantile(0.25)\n",
    "    q3 = dados[variavel].quantile(0.75)\n",
    "\n",
    "    iqr = q3 - q1\n",
    "\n",
    "    limite_inferior = q1 - 1.5 * iqr\n",
    "    limite_superior = q3 + 1.5 * iqr\n",
    "\n",
    "    dataset = dados[(dados[variavel] >= limite_inferior) & (dados[variavel] <= limite_superior)]\n",
    "\n",
    "    return dataset\n",
    "\n",
    "\n",
    "base = remove_outliers(base, 'numero_de_operacoes')\n",
    "base = remove_outliers(base, 'carteira_ativa')\n",
    "base = remove_outliers(base, 'carteira_inadimplida_arrastada')\n",
    "base = remove_outliers(base, 'ativo_problematico')"
   ]
  },
  {
   "cell_type": "code",
   "execution_count": 12,
   "metadata": {},
   "outputs": [],
   "source": [
    "# Agrupando as UFs por região\n",
    "norte = ['AC', 'AM', 'AP', 'PA', 'RO', 'RR', 'TO']\n",
    "nordeste = ['AL', 'BA', 'CE', 'MA', 'PB', 'PE', 'PI', 'RN', 'SE']\n",
    "centro_oeste = ['DF', 'GO', 'MS', 'MT']\n",
    "sudeste = ['ES', 'RJ', 'MG', 'SP']\n",
    "sul = ['PR', 'RS', 'SC']\n",
    "\n",
    "# Criando coluna de regiões\n",
    "base.loc[base['uf'].isin(norte), 'regiao'] = 'norte'\n",
    "base.loc[base['uf'].isin(nordeste), 'regiao'] = 'nordeste'\n",
    "base.loc[base['uf'].isin(centro_oeste), 'regiao'] = 'centro oeste'\n",
    "base.loc[base['uf'].isin(sudeste), 'regiao'] = 'sudeste'\n",
    "base.loc[base['uf'].isin(sul), 'regiao'] = 'sul'"
   ]
  },
  {
   "cell_type": "code",
   "execution_count": 13,
   "metadata": {},
   "outputs": [],
   "source": [
    "# Alterando título das colunas\n",
    "base = base.rename(columns={\n",
    "    'data_base':'data',\n",
    "    'carteira_ativa':'carteira_total',\n",
    "    'carteira_inadimplida_arrastada':'carteira_inadimplencia'\n",
    "})"
   ]
  },
  {
   "cell_type": "code",
   "execution_count": 14,
   "metadata": {},
   "outputs": [],
   "source": [
    "# Filtrando os dados importantes\n",
    "base = base[base['modalidade'] == 'Cartão de crédito']\n",
    "base = base[base['ocupacao'] != 'Outros']\n",
    "base = base[base['porte'] != 'Indisponível']"
   ]
  },
  {
   "cell_type": "code",
   "execution_count": 15,
   "metadata": {},
   "outputs": [
    {
     "data": {
      "text/html": [
       "<div>\n",
       "<style scoped>\n",
       "    .dataframe tbody tr th:only-of-type {\n",
       "        vertical-align: middle;\n",
       "    }\n",
       "\n",
       "    .dataframe tbody tr th {\n",
       "        vertical-align: top;\n",
       "    }\n",
       "\n",
       "    .dataframe thead th {\n",
       "        text-align: right;\n",
       "    }\n",
       "</style>\n",
       "<table border=\"1\" class=\"dataframe\">\n",
       "  <thead>\n",
       "    <tr style=\"text-align: right;\">\n",
       "      <th></th>\n",
       "      <th>data</th>\n",
       "      <th>uf</th>\n",
       "      <th>tcb</th>\n",
       "      <th>cliente</th>\n",
       "      <th>ocupacao</th>\n",
       "      <th>porte</th>\n",
       "      <th>modalidade</th>\n",
       "      <th>indexador</th>\n",
       "      <th>numero_de_operacoes</th>\n",
       "      <th>carteira_total</th>\n",
       "      <th>carteira_inadimplencia</th>\n",
       "      <th>ativo_problematico</th>\n",
       "      <th>regiao</th>\n",
       "    </tr>\n",
       "  </thead>\n",
       "  <tbody>\n",
       "    <tr>\n",
       "      <th>0</th>\n",
       "      <td>2023-01-31</td>\n",
       "      <td>AC</td>\n",
       "      <td>Bancário</td>\n",
       "      <td>PF</td>\n",
       "      <td>Aposentado/pensionista</td>\n",
       "      <td>1 a 2</td>\n",
       "      <td>Cartão de crédito</td>\n",
       "      <td>Prefixado</td>\n",
       "      <td>20</td>\n",
       "      <td>11861.23</td>\n",
       "      <td>0.00</td>\n",
       "      <td>3508.25</td>\n",
       "      <td>norte</td>\n",
       "    </tr>\n",
       "    <tr>\n",
       "      <th>2</th>\n",
       "      <td>2023-01-31</td>\n",
       "      <td>AC</td>\n",
       "      <td>Bancário</td>\n",
       "      <td>PF</td>\n",
       "      <td>Autônomo</td>\n",
       "      <td>1 a 2</td>\n",
       "      <td>Cartão de crédito</td>\n",
       "      <td>Prefixado</td>\n",
       "      <td>15</td>\n",
       "      <td>3623.48</td>\n",
       "      <td>0.00</td>\n",
       "      <td>0.00</td>\n",
       "      <td>norte</td>\n",
       "    </tr>\n",
       "    <tr>\n",
       "      <th>3</th>\n",
       "      <td>2023-01-31</td>\n",
       "      <td>AC</td>\n",
       "      <td>Bancário</td>\n",
       "      <td>PF</td>\n",
       "      <td>Empregado de empresa privada</td>\n",
       "      <td>1 a 2</td>\n",
       "      <td>Cartão de crédito</td>\n",
       "      <td>Prefixado</td>\n",
       "      <td>26</td>\n",
       "      <td>17963.23</td>\n",
       "      <td>1496.98</td>\n",
       "      <td>3061.30</td>\n",
       "      <td>norte</td>\n",
       "    </tr>\n",
       "    <tr>\n",
       "      <th>4</th>\n",
       "      <td>2023-01-31</td>\n",
       "      <td>AC</td>\n",
       "      <td>Bancário</td>\n",
       "      <td>PF</td>\n",
       "      <td>Empregado de empresa privada</td>\n",
       "      <td>2 a 3</td>\n",
       "      <td>Cartão de crédito</td>\n",
       "      <td>Prefixado</td>\n",
       "      <td>15</td>\n",
       "      <td>2855.66</td>\n",
       "      <td>2246.28</td>\n",
       "      <td>2855.66</td>\n",
       "      <td>norte</td>\n",
       "    </tr>\n",
       "    <tr>\n",
       "      <th>5</th>\n",
       "      <td>2023-01-31</td>\n",
       "      <td>AC</td>\n",
       "      <td>Bancário</td>\n",
       "      <td>PF</td>\n",
       "      <td>Empregado de empresa privada</td>\n",
       "      <td>3 a 5</td>\n",
       "      <td>Cartão de crédito</td>\n",
       "      <td>Prefixado</td>\n",
       "      <td>15</td>\n",
       "      <td>174.80</td>\n",
       "      <td>0.00</td>\n",
       "      <td>0.00</td>\n",
       "      <td>norte</td>\n",
       "    </tr>\n",
       "  </tbody>\n",
       "</table>\n",
       "</div>"
      ],
      "text/plain": [
       "         data  uf       tcb cliente                      ocupacao  porte  \\\n",
       "0  2023-01-31  AC  Bancário      PF        Aposentado/pensionista  1 a 2   \n",
       "2  2023-01-31  AC  Bancário      PF                      Autônomo  1 a 2   \n",
       "3  2023-01-31  AC  Bancário      PF  Empregado de empresa privada  1 a 2   \n",
       "4  2023-01-31  AC  Bancário      PF  Empregado de empresa privada  2 a 3   \n",
       "5  2023-01-31  AC  Bancário      PF  Empregado de empresa privada  3 a 5   \n",
       "\n",
       "          modalidade  indexador  numero_de_operacoes  carteira_total  \\\n",
       "0  Cartão de crédito  Prefixado                   20        11861.23   \n",
       "2  Cartão de crédito  Prefixado                   15         3623.48   \n",
       "3  Cartão de crédito  Prefixado                   26        17963.23   \n",
       "4  Cartão de crédito  Prefixado                   15         2855.66   \n",
       "5  Cartão de crédito  Prefixado                   15          174.80   \n",
       "\n",
       "   carteira_inadimplencia  ativo_problematico regiao  \n",
       "0                    0.00             3508.25  norte  \n",
       "2                    0.00                0.00  norte  \n",
       "3                 1496.98             3061.30  norte  \n",
       "4                 2246.28             2855.66  norte  \n",
       "5                    0.00                0.00  norte  "
      ]
     },
     "execution_count": 15,
     "metadata": {},
     "output_type": "execute_result"
    }
   ],
   "source": [
    "# Visualizando base após tratamento\n",
    "base.head()"
   ]
  },
  {
   "cell_type": "code",
   "execution_count": 16,
   "metadata": {},
   "outputs": [
    {
     "name": "stdout",
     "output_type": "stream",
     "text": [
      "Total de Linhas: 81548, Total de Colunas: 13\n"
     ]
    }
   ],
   "source": [
    "# Dimensões da base de dados tratada\n",
    "print(f'Total de Linhas: {base.shape[0]}, Total de Colunas: {base.shape[1]}')"
   ]
  },
  {
   "cell_type": "code",
   "execution_count": 17,
   "metadata": {},
   "outputs": [],
   "source": [
    "# Salvando base\n",
    "base.to_csv('base_consolidada_pf.csv', index=False)"
   ]
  },
  {
   "cell_type": "markdown",
   "metadata": {},
   "source": [
    "### Análise Exploratória"
   ]
  },
  {
   "cell_type": "code",
   "execution_count": 18,
   "metadata": {},
   "outputs": [
    {
     "data": {
      "text/html": [
       "<div>\n",
       "<style scoped>\n",
       "    .dataframe tbody tr th:only-of-type {\n",
       "        vertical-align: middle;\n",
       "    }\n",
       "\n",
       "    .dataframe tbody tr th {\n",
       "        vertical-align: top;\n",
       "    }\n",
       "\n",
       "    .dataframe thead th {\n",
       "        text-align: right;\n",
       "    }\n",
       "</style>\n",
       "<table border=\"1\" class=\"dataframe\">\n",
       "  <thead>\n",
       "    <tr style=\"text-align: right;\">\n",
       "      <th></th>\n",
       "      <th>data</th>\n",
       "      <th>uf</th>\n",
       "      <th>tcb</th>\n",
       "      <th>cliente</th>\n",
       "      <th>ocupacao</th>\n",
       "      <th>porte</th>\n",
       "      <th>modalidade</th>\n",
       "      <th>indexador</th>\n",
       "      <th>numero_de_operacoes</th>\n",
       "      <th>carteira_total</th>\n",
       "      <th>carteira_inadimplencia</th>\n",
       "      <th>ativo_problematico</th>\n",
       "      <th>regiao</th>\n",
       "    </tr>\n",
       "  </thead>\n",
       "  <tbody>\n",
       "    <tr>\n",
       "      <th>0</th>\n",
       "      <td>2023-01-31</td>\n",
       "      <td>AC</td>\n",
       "      <td>Bancário</td>\n",
       "      <td>PF</td>\n",
       "      <td>Aposentado/pensionista</td>\n",
       "      <td>1 a 2</td>\n",
       "      <td>Cartão de crédito</td>\n",
       "      <td>Prefixado</td>\n",
       "      <td>20</td>\n",
       "      <td>11861.23</td>\n",
       "      <td>0.00</td>\n",
       "      <td>3508.25</td>\n",
       "      <td>norte</td>\n",
       "    </tr>\n",
       "    <tr>\n",
       "      <th>1</th>\n",
       "      <td>2023-01-31</td>\n",
       "      <td>AC</td>\n",
       "      <td>Bancário</td>\n",
       "      <td>PF</td>\n",
       "      <td>Autônomo</td>\n",
       "      <td>1 a 2</td>\n",
       "      <td>Cartão de crédito</td>\n",
       "      <td>Prefixado</td>\n",
       "      <td>15</td>\n",
       "      <td>3623.48</td>\n",
       "      <td>0.00</td>\n",
       "      <td>0.00</td>\n",
       "      <td>norte</td>\n",
       "    </tr>\n",
       "    <tr>\n",
       "      <th>2</th>\n",
       "      <td>2023-01-31</td>\n",
       "      <td>AC</td>\n",
       "      <td>Bancário</td>\n",
       "      <td>PF</td>\n",
       "      <td>Empregado de empresa privada</td>\n",
       "      <td>1 a 2</td>\n",
       "      <td>Cartão de crédito</td>\n",
       "      <td>Prefixado</td>\n",
       "      <td>26</td>\n",
       "      <td>17963.23</td>\n",
       "      <td>1496.98</td>\n",
       "      <td>3061.30</td>\n",
       "      <td>norte</td>\n",
       "    </tr>\n",
       "    <tr>\n",
       "      <th>3</th>\n",
       "      <td>2023-01-31</td>\n",
       "      <td>AC</td>\n",
       "      <td>Bancário</td>\n",
       "      <td>PF</td>\n",
       "      <td>Empregado de empresa privada</td>\n",
       "      <td>2 a 3</td>\n",
       "      <td>Cartão de crédito</td>\n",
       "      <td>Prefixado</td>\n",
       "      <td>15</td>\n",
       "      <td>2855.66</td>\n",
       "      <td>2246.28</td>\n",
       "      <td>2855.66</td>\n",
       "      <td>norte</td>\n",
       "    </tr>\n",
       "    <tr>\n",
       "      <th>4</th>\n",
       "      <td>2023-01-31</td>\n",
       "      <td>AC</td>\n",
       "      <td>Bancário</td>\n",
       "      <td>PF</td>\n",
       "      <td>Empregado de empresa privada</td>\n",
       "      <td>3 a 5</td>\n",
       "      <td>Cartão de crédito</td>\n",
       "      <td>Prefixado</td>\n",
       "      <td>15</td>\n",
       "      <td>174.80</td>\n",
       "      <td>0.00</td>\n",
       "      <td>0.00</td>\n",
       "      <td>norte</td>\n",
       "    </tr>\n",
       "  </tbody>\n",
       "</table>\n",
       "</div>"
      ],
      "text/plain": [
       "         data  uf       tcb cliente                      ocupacao  porte  \\\n",
       "0  2023-01-31  AC  Bancário      PF        Aposentado/pensionista  1 a 2   \n",
       "1  2023-01-31  AC  Bancário      PF                      Autônomo  1 a 2   \n",
       "2  2023-01-31  AC  Bancário      PF  Empregado de empresa privada  1 a 2   \n",
       "3  2023-01-31  AC  Bancário      PF  Empregado de empresa privada  2 a 3   \n",
       "4  2023-01-31  AC  Bancário      PF  Empregado de empresa privada  3 a 5   \n",
       "\n",
       "          modalidade  indexador  numero_de_operacoes  carteira_total  \\\n",
       "0  Cartão de crédito  Prefixado                   20        11861.23   \n",
       "1  Cartão de crédito  Prefixado                   15         3623.48   \n",
       "2  Cartão de crédito  Prefixado                   26        17963.23   \n",
       "3  Cartão de crédito  Prefixado                   15         2855.66   \n",
       "4  Cartão de crédito  Prefixado                   15          174.80   \n",
       "\n",
       "   carteira_inadimplencia  ativo_problematico regiao  \n",
       "0                    0.00             3508.25  norte  \n",
       "1                    0.00                0.00  norte  \n",
       "2                 1496.98             3061.30  norte  \n",
       "3                 2246.28             2855.66  norte  \n",
       "4                    0.00                0.00  norte  "
      ]
     },
     "execution_count": 18,
     "metadata": {},
     "output_type": "execute_result"
    }
   ],
   "source": [
    "# Carregando a base consolidada\n",
    "df = pd.read_csv('base_consolidada_pf.csv')\n",
    "\n",
    "# Visualizando primeiras linhas\n",
    "df.head()"
   ]
  },
  {
   "cell_type": "code",
   "execution_count": 19,
   "metadata": {},
   "outputs": [
    {
     "data": {
      "text/html": [
       "<div>\n",
       "<style scoped>\n",
       "    .dataframe tbody tr th:only-of-type {\n",
       "        vertical-align: middle;\n",
       "    }\n",
       "\n",
       "    .dataframe tbody tr th {\n",
       "        vertical-align: top;\n",
       "    }\n",
       "\n",
       "    .dataframe thead th {\n",
       "        text-align: right;\n",
       "    }\n",
       "</style>\n",
       "<table border=\"1\" class=\"dataframe\">\n",
       "  <thead>\n",
       "    <tr style=\"text-align: right;\">\n",
       "      <th></th>\n",
       "      <th>numero_de_operacoes</th>\n",
       "      <th>carteira_total</th>\n",
       "      <th>carteira_inadimplencia</th>\n",
       "      <th>ativo_problematico</th>\n",
       "    </tr>\n",
       "  </thead>\n",
       "  <tbody>\n",
       "    <tr>\n",
       "      <th>count</th>\n",
       "      <td>81548.00</td>\n",
       "      <td>81548.00</td>\n",
       "      <td>81548.00</td>\n",
       "      <td>81548.00</td>\n",
       "    </tr>\n",
       "    <tr>\n",
       "      <th>mean</th>\n",
       "      <td>54.65</td>\n",
       "      <td>97750.25</td>\n",
       "      <td>2022.39</td>\n",
       "      <td>2983.27</td>\n",
       "    </tr>\n",
       "    <tr>\n",
       "      <th>std</th>\n",
       "      <td>86.87</td>\n",
       "      <td>226225.28</td>\n",
       "      <td>3961.63</td>\n",
       "      <td>4946.30</td>\n",
       "    </tr>\n",
       "    <tr>\n",
       "      <th>min</th>\n",
       "      <td>15.00</td>\n",
       "      <td>1.04</td>\n",
       "      <td>0.00</td>\n",
       "      <td>0.00</td>\n",
       "    </tr>\n",
       "    <tr>\n",
       "      <th>25%</th>\n",
       "      <td>15.00</td>\n",
       "      <td>5163.66</td>\n",
       "      <td>0.00</td>\n",
       "      <td>0.00</td>\n",
       "    </tr>\n",
       "    <tr>\n",
       "      <th>50%</th>\n",
       "      <td>15.00</td>\n",
       "      <td>21274.72</td>\n",
       "      <td>0.00</td>\n",
       "      <td>0.00</td>\n",
       "    </tr>\n",
       "    <tr>\n",
       "      <th>75%</th>\n",
       "      <td>49.00</td>\n",
       "      <td>84150.94</td>\n",
       "      <td>1978.65</td>\n",
       "      <td>4216.19</td>\n",
       "    </tr>\n",
       "    <tr>\n",
       "      <th>max</th>\n",
       "      <td>602.00</td>\n",
       "      <td>2451203.87</td>\n",
       "      <td>19877.46</td>\n",
       "      <td>19882.68</td>\n",
       "    </tr>\n",
       "  </tbody>\n",
       "</table>\n",
       "</div>"
      ],
      "text/plain": [
       "       numero_de_operacoes  carteira_total  carteira_inadimplencia  \\\n",
       "count             81548.00        81548.00                81548.00   \n",
       "mean                 54.65        97750.25                 2022.39   \n",
       "std                  86.87       226225.28                 3961.63   \n",
       "min                  15.00            1.04                    0.00   \n",
       "25%                  15.00         5163.66                    0.00   \n",
       "50%                  15.00        21274.72                    0.00   \n",
       "75%                  49.00        84150.94                 1978.65   \n",
       "max                 602.00      2451203.87                19877.46   \n",
       "\n",
       "       ativo_problematico  \n",
       "count            81548.00  \n",
       "mean              2983.27  \n",
       "std               4946.30  \n",
       "min                  0.00  \n",
       "25%                  0.00  \n",
       "50%                  0.00  \n",
       "75%               4216.19  \n",
       "max              19882.68  "
      ]
     },
     "execution_count": 19,
     "metadata": {},
     "output_type": "execute_result"
    }
   ],
   "source": [
    "# Estatísticas descritivas\n",
    "pd.set_option('display.float_format', '{:.2f}'.format)\n",
    "df.describe()"
   ]
  },
  {
   "cell_type": "code",
   "execution_count": 20,
   "metadata": {},
   "outputs": [
    {
     "data": {
      "text/plain": [
       "tcb\n",
       "Não bancário    33669\n",
       "Bancário        32357\n",
       "Cooperativas    15522\n",
       "Name: count, dtype: int64"
      ]
     },
     "execution_count": 20,
     "metadata": {},
     "output_type": "execute_result"
    }
   ],
   "source": [
    "df['tcb'].value_counts()"
   ]
  },
  {
   "cell_type": "code",
   "execution_count": 21,
   "metadata": {},
   "outputs": [
    {
     "data": {
      "text/plain": [
       "ocupacao\n",
       "Empregado de entidades sem fins lucrativos    14372\n",
       "Aposentado/pensionista                        12494\n",
       "MEI                                           12002\n",
       "Autônomo                                      11158\n",
       "Servidor ou empregado público                 11045\n",
       "Empregado de empresa privada                  10366\n",
       "Empresário                                    10111\n",
       "Name: count, dtype: int64"
      ]
     },
     "execution_count": 21,
     "metadata": {},
     "output_type": "execute_result"
    }
   ],
   "source": [
    "df['ocupacao'].value_counts()"
   ]
  },
  {
   "cell_type": "code",
   "execution_count": 22,
   "metadata": {},
   "outputs": [
    {
     "data": {
      "text/plain": [
       "porte\n",
       "0 a 1      11729\n",
       "1 a 2      11048\n",
       "> 20       10762\n",
       "2 a 3      10696\n",
       "3 a 5      10059\n",
       "10 a 20     9827\n",
       "5 a 10      9359\n",
       "0           8068\n",
       "Name: count, dtype: int64"
      ]
     },
     "execution_count": 22,
     "metadata": {},
     "output_type": "execute_result"
    }
   ],
   "source": [
    "df['porte'].value_counts()"
   ]
  },
  {
   "cell_type": "code",
   "execution_count": 23,
   "metadata": {},
   "outputs": [
    {
     "data": {
      "text/plain": [
       "indexador\n",
       "Prefixado             56587\n",
       "Outros indexadores    16573\n",
       "Índices de preços      4931\n",
       "Pós-fixado             3257\n",
       "Flutuantes              200\n",
       "Name: count, dtype: int64"
      ]
     },
     "execution_count": 23,
     "metadata": {},
     "output_type": "execute_result"
    }
   ],
   "source": [
    "df['indexador'].value_counts()"
   ]
  },
  {
   "cell_type": "markdown",
   "metadata": {},
   "source": [
    "## Análise"
   ]
  },
  {
   "cell_type": "markdown",
   "metadata": {},
   "source": [
    "### 1. Análise de Endividamento e Inadimplência\n",
    "\n",
    "Para entender melhor a relação entre os valores da carteira total e a inadimplência, podemos calcular a razão entre a inadimplência e a carteira total. Isso ajudará a identificar segmentos mais arriscados e com maior potencial de inadimplência."
   ]
  },
  {
   "cell_type": "code",
   "execution_count": 24,
   "metadata": {},
   "outputs": [],
   "source": [
    "# Calculando a taxa de inadimplência\n",
    "df['taxa_inadimplencia'] = df['carteira_inadimplencia']  / df['carteira_total'] * 100"
   ]
  },
  {
   "cell_type": "code",
   "execution_count": 25,
   "metadata": {},
   "outputs": [
    {
     "data": {
      "image/png": "[encoded data removed]",
      "text/plain": [
       "<Figure size 1200x500 with 1 Axes>"
      ]
     },
     "metadata": {},
     "output_type": "display_data"
    }
   ],
   "source": [
    "ocupacao = round(df.groupby('ocupacao')['taxa_inadimplencia'].mean().reset_index().sort_values(by='taxa_inadimplencia'),2)\n",
    "\n",
    "plt.figure(figsize=(12,5))\n",
    "ax = sns.barplot(x='taxa_inadimplencia', y='ocupacao', data=ocupacao, palette='crest')\n",
    "for container in ax.containers:\n",
    "    ax.bar_label(container, fontsize=10, padding=3, color='black')\n",
    "plt.ylabel('Ocupação')\n",
    "plt.xlabel('Taxa de Inadimplência')\n",
    "plt.title('Taxa de Inadimplência por Ocupação dos Clientes')\n",
    "plt.show()"
   ]
  },
  {
   "cell_type": "markdown",
   "metadata": {},
   "source": [
    "**Insights de Inadimplência**\n",
    "\n",
    "- Clientes com ocupação \"Aposentado/Pensionista\", \"Servidor ou empregado público\" e \"Empresário\" apresentão uma média de taxas de endividamento abaixo de 10%, indicando que clientes destas ocupações tendem a ter mais estabilidade financeira.\n",
    "\n",
    "- Já as demais ocupações apresentam taxas de inadimplência superiores a 11%, destaque para o \"MEI\" que apresenta a maior taxa média de 11.8%, isso pode ser um sinal de vunerabilidade, pois indica que muitos desses clientes podem não ter fontes de renda regulares."
   ]
  },
  {
   "cell_type": "markdown",
   "metadata": {},
   "source": [
    "### 2. Análise de Ativos Problemáticos\n",
    "\n",
    "Ativos problemáticos são aqueles que estão na carteira de inadimplência ou com valores problemáticos. Analisando essa dimensão podemos entender quais segmentos de clientes têm mais risco associado."
   ]
  },
  {
   "cell_type": "code",
   "execution_count": 26,
   "metadata": {},
   "outputs": [],
   "source": [
    "# Calculando ativos problemáticos\n",
    "df['total_ativos_problematicos'] = df['carteira_inadimplencia'] + df['ativo_problematico']"
   ]
  },
  {
   "cell_type": "code",
   "execution_count": 27,
   "metadata": {},
   "outputs": [
    {
     "data": {
      "image/png": "[encoded data removed]",
      "text/plain": [
       "<Figure size 1000x600 with 1 Axes>"
      ]
     },
     "metadata": {},
     "output_type": "display_data"
    }
   ],
   "source": [
    "porte = df.groupby('porte')['total_ativos_problematicos'].mean().reset_index().sort_values(by='total_ativos_problematicos', ascending=False)\n",
    "\n",
    "plt.figure(figsize=(10,6))\n",
    "ax = sns.barplot(x='porte', y='total_ativos_problematicos', data=porte, palette='crest')\n",
    "for container in ax.containers:\n",
    "    ax.bar_label(container, fontsize=10, padding=3, color='black')\n",
    "plt.ylabel('Média de Ativos Problematicos')\n",
    "plt.xlabel('Faixa Salarial')\n",
    "plt.title('Média de Ativos Problemáticos pela Faixa de Renda')\n",
    "plt.show()"
   ]
  },
  {
   "cell_type": "markdown",
   "metadata": {},
   "source": [
    "**Insights sobre Ativos Problemáticos**\n",
    "\n",
    "- Podemos observar que clientes sem renda e com renda acima de 20 salários mínimos, apresentaram as maiores médias de ativos problématicos, isso indica que esses clientes podem esta passando por dificuldades financeiras.\n",
    "\n",
    "- As demais faixas de renda se mantem com media de ativos problemáticos entre 4.000 e 4.900."
   ]
  },
  {
   "cell_type": "markdown",
   "metadata": {},
   "source": [
    "### 3. Impacto da Região e Indexador na Inadimplência\n",
    "A região e o indexador podem ter influência importante nas taxas de inadimplência. Vamos verificar como esses fatores impactam a taxa de inadimplência."
   ]
  },
  {
   "cell_type": "code",
   "execution_count": 28,
   "metadata": {},
   "outputs": [
    {
     "data": {
      "image/png": "[encoded data removed]",
      "text/plain": [
       "<Figure size 1000x600 with 1 Axes>"
      ]
     },
     "metadata": {},
     "output_type": "display_data"
    }
   ],
   "source": [
    "# Taxa de inadimplência por região\n",
    "regiao_inadimplencia = round(df.groupby('regiao')['taxa_inadimplencia'].mean().sort_values(ascending=False).reset_index(), 2)\n",
    "\n",
    "plt.figure(figsize=(10,6))\n",
    "ax = sns.barplot(x='regiao', y='taxa_inadimplencia', data=regiao_inadimplencia, palette='crest')\n",
    "for container in ax.containers:\n",
    "    ax.bar_label(container, fontsize=10, padding=3, color='black')\n",
    "plt.ylabel('Taxa de Inadimplência')\n",
    "plt.xlabel('Região')\n",
    "plt.title('Taxa de Inadimplência por Região')\n",
    "plt.show()\n"
   ]
  },
  {
   "cell_type": "code",
   "execution_count": 30,
   "metadata": {},
   "outputs": [
    {
     "data": {
      "image/png": "[encoded data removed]",
      "text/plain": [
       "<Figure size 1200x600 with 1 Axes>"
      ]
     },
     "metadata": {},
     "output_type": "display_data"
    }
   ],
   "source": [
    "# Taxa de inadimplência por indexador\n",
    "indexador_inadimplencia = round(df.groupby('indexador')['taxa_inadimplencia'].mean().sort_values(ascending=False).reset_index(), 2)\n",
    "\n",
    "# Visualizando os resultados\n",
    "plt.figure(figsize=(12,6))\n",
    "ax = sns.barplot(x='taxa_inadimplencia', y='indexador', data=indexador_inadimplencia, palette='crest')\n",
    "for container in ax.containers:\n",
    "    ax.bar_label(container, fontsize=10, padding=3, color='black')\n",
    "plt.xlabel('Taxa de Inadimplência')\n",
    "plt.ylabel('Indexador')\n",
    "plt.title('Taxa de Inadimplência por Indexador')\n",
    "plt.show()"
   ]
  },
  {
   "cell_type": "markdown",
   "metadata": {},
   "source": [
    "**Insights sobre Região e Indexador**\n",
    "\n",
    "- Região Norte e Sudeste apresenta uma taxa de inadimplência superior em comparação a outras regiões, sugerindo que a empresa deve ser cautelosa ao lançar seu produto nesta localidade.\n",
    "\n",
    "- Clientes com indexadores \"Pós-fixado\" e \"Flutuantes\" apresentam taxas de inadimplência mais altas, o que pode ser um reflexo de condições de crédito menos flexíveis e resultado da atual economia."
   ]
  },
  {
   "cell_type": "markdown",
   "metadata": {},
   "source": [
    "### 4. Regiões com Maior Uso de Cartão de Crédito\n"
   ]
  },
  {
   "cell_type": "code",
   "execution_count": 31,
   "metadata": {},
   "outputs": [
    {
     "data": {
      "text/html": [
       "<div style=\"width:100%;\"><div style=\"position:relative;width:100%;height:0;padding-bottom:60%;\"><span style=\"color:#565656\">Make this Notebook Trusted to load map: File -> Trust Notebook</span><iframe srcdoc=\"&lt;!DOCTYPE html&gt;\n",
       "&lt;html&gt;\n",
       "&lt;head&gt;\n",
       "    \n",
       "    &lt;meta http-equiv=&quot;content-type&quot; content=&quot;text/html; charset=UTF-8&quot; /&gt;\n",
       "    \n",
       "        &lt;script&gt;\n",
       "            L_NO_TOUCH = false;\n",
       "            L_DISABLE_3D = false;\n",
       "        &lt;/script&gt;\n",
       "    \n",
       "    &lt;style&gt;html, body {width: 100%;height: 100%;margin: 0;padding: 0;}&lt;/style&gt;\n",
       "    &lt;style&gt;#map {position:absolute;top:0;bottom:0;right:0;left:0;}&lt;/style&gt;\n",
       "    &lt;script src=&quot;https://cdn.jsdelivr.net/npm/leaflet@1.9.3/dist/leaflet.js&quot;&gt;&lt;/script&gt;\n",
       "    &lt;script src=&quot;https://code.jquery.com/jquery-3.7.1.min.js&quot;&gt;&lt;/script&gt;\n",
       "    &lt;script src=&quot;https://cdn.jsdelivr.net/npm/bootstrap@5.2.2/dist/js/bootstrap.bundle.min.js&quot;&gt;&lt;/script&gt;\n",
       "    &lt;script src=&quot;https://cdnjs.cloudflare.com/ajax/libs/Leaflet.awesome-markers/2.0.2/leaflet.awesome-markers.js&quot;&gt;&lt;/script&gt;\n",
       "    &lt;link rel=&quot;stylesheet&quot; href=&quot;https://cdn.jsdelivr.net/npm/leaflet@1.9.3/dist/leaflet.css&quot;/&gt;\n",
       "    &lt;link rel=&quot;stylesheet&quot; href=&quot;https://cdn.jsdelivr.net/npm/bootstrap@5.2.2/dist/css/bootstrap.min.css&quot;/&gt;\n",
       "    &lt;link rel=&quot;stylesheet&quot; href=&quot;https://netdna.bootstrapcdn.com/bootstrap/3.0.0/css/bootstrap-glyphicons.css&quot;/&gt;\n",
       "    &lt;link rel=&quot;stylesheet&quot; href=&quot;https://cdn.jsdelivr.net/npm/@fortawesome/fontawesome-free@6.2.0/css/all.min.css&quot;/&gt;\n",
       "    &lt;link rel=&quot;stylesheet&quot; href=&quot;https://cdnjs.cloudflare.com/ajax/libs/Leaflet.awesome-markers/2.0.2/leaflet.awesome-markers.css&quot;/&gt;\n",
       "    &lt;link rel=&quot;stylesheet&quot; href=&quot;https://cdn.jsdelivr.net/gh/python-visualization/folium/folium/templates/leaflet.awesome.rotate.min.css&quot;/&gt;\n",
       "    \n",
       "            &lt;meta name=&quot;viewport&quot; content=&quot;width=device-width,\n",
       "                initial-scale=1.0, maximum-scale=1.0, user-scalable=no&quot; /&gt;\n",
       "            &lt;style&gt;\n",
       "                #map_d85b71504ce3e731bf29b849bccb9345 {\n",
       "                    position: relative;\n",
       "                    width: 100.0%;\n",
       "                    height: 100.0%;\n",
       "                    left: 0.0%;\n",
       "                    top: 0.0%;\n",
       "                }\n",
       "                .leaflet-container { font-size: 1rem; }\n",
       "            &lt;/style&gt;\n",
       "        \n",
       "    &lt;script src=&quot;https://cdn.jsdelivr.net/gh/python-visualization/folium@main/folium/templates/leaflet_heat.min.js&quot;&gt;&lt;/script&gt;\n",
       "&lt;/head&gt;\n",
       "&lt;body&gt;\n",
       "    \n",
       "    \n",
       "            &lt;div class=&quot;folium-map&quot; id=&quot;map_d85b71504ce3e731bf29b849bccb9345&quot; &gt;&lt;/div&gt;\n",
       "        \n",
       "&lt;/body&gt;\n",
       "&lt;script&gt;\n",
       "    \n",
       "    \n",
       "            var map_d85b71504ce3e731bf29b849bccb9345 = L.map(\n",
       "                &quot;map_d85b71504ce3e731bf29b849bccb9345&quot;,\n",
       "                {\n",
       "                    center: [-14.235, -51.9253],\n",
       "                    crs: L.CRS.EPSG3857,\n",
       "                    zoom: 10,\n",
       "                    zoomControl: true,\n",
       "                    preferCanvas: false,\n",
       "                }\n",
       "            );\n",
       "            L.control.scale().addTo(map_d85b71504ce3e731bf29b849bccb9345);\n",
       "\n",
       "            \n",
       "\n",
       "        \n",
       "    \n",
       "            var tile_layer_76d96483badab078cdc87cb9c5913b22 = L.tileLayer(\n",
       "                &quot;https://tile.openstreetmap.org/{z}/{x}/{y}.png&quot;,\n",
       "                {&quot;attribution&quot;: &quot;\\u0026copy; \\u003ca href=\\&quot;https://www.openstreetmap.org/copyright\\&quot;\\u003eOpenStreetMap\\u003c/a\\u003e contributors&quot;, &quot;detectRetina&quot;: false, &quot;maxNativeZoom&quot;: 19, &quot;maxZoom&quot;: 4, &quot;minZoom&quot;: 4, &quot;noWrap&quot;: false, &quot;opacity&quot;: 1, &quot;subdomains&quot;: &quot;abc&quot;, &quot;tms&quot;: false}\n",
       "            );\n",
       "        \n",
       "    \n",
       "            tile_layer_76d96483badab078cdc87cb9c5913b22.addTo(map_d85b71504ce3e731bf29b849bccb9345);\n",
       "        \n",
       "    \n",
       "            var heat_map_91bfdf5c927620dbf3288ab78d0ae8cb = L.heatLayer(\n",
       "                [[-9.431642251716712, -64.02860096248615], [-11.694621184605888, -64.09812556023687], [-9.659091333955374, -62.56662542073726], [-10.636677409792238, -62.35638655756155], [-11.605907864468998, -62.88371176093296], [-11.93272037028225, -61.688776355155774], [-12.140621588581771, -60.66864421409887], [-13.153459931427086, -61.2160980975546], [-8.273793123096763, -72.86189599351637], [-8.698434267573345, -71.1248681871561], [-9.61441059938004, -69.65931656190979], [-9.982993547389407, -67.92014601561786], [-10.714509191955855, -69.1598551063481], [-0.3415501018427452, -65.13146632552731], [-1.8661794120235988, -67.56070631927246], [-4.7592054817073395, -69.69884347865055], [-5.9775096338864975, -68.71004165752399], [-4.0193517859757435, -65.46972766521837], [-4.124304328561051, -63.2200746616233], [-3.3065628310104183, -60.248335995456486], [-1.5865321363568377, -59.924217580346145], [-3.1451509149355226, -58.56025710225596], [-2.909091590437611, -58.19964664504858], [-8.108825248178066, -68.14545425376873], [-7.146980753389765, -65.10833642459207], [-6.682905405809399, -60.54532104900388], [3.4843699241629484, -62.21770640196609], [3.4066170291111786, -60.2495124610986], [1.4716706447825472, -61.7363024296534], [0.31849922269015424, -60.496255238715975], [-0.10444041656604218, -56.879395128985365], [-1.871490177047699, -54.65470472523179], [-0.19171063594681537, -53.6340250161735], [-2.13418740522756, -51.01601866176745], [-0.8881002881310015, -50.373465626313205], [-0.528826535429748, -49.38674842773645], [-1.361373068908127, -48.493960387878936], [-1.3832427999108785, -48.031261709885776], [-0.8304224804118374, -47.72898544674924], [-1.1509741802375602, -47.07140406247723], [-2.3658402902527933, -49.532077981780965], [-2.5729392233316406, -48.68223576907415], [-2.0715046212202277, -47.188141579002455], [-6.45250636412973, -56.423473647761696], [-5.668002044364424, -53.358411046178176], [-4.545148545851083, -49.92267069736785], [-3.8479268800233917, -48.05150295260067], [-7.438208868557163, -51.95188152600922], [-6.384045718933114, -50.15949468332389], [-5.641477872158992, -49.661022114601835], [-7.100674381084728, -49.59231599843814], [-8.70188362593915, -50.193995673388066], [2.8504832977297303, -51.71178722980736], [1.5675059325552194, -50.89465501185578], [0.9900308158972532, -51.68073298746826], [0.6550825295657077, -52.855415679791335], [-6.032078598396661, -47.899413717574205], [-7.342966173788248, -48.446678526634294], [-9.11813459774951, -49.0027477399557], [-11.36037959534447, -49.85802718560586], [-11.969265201280425, -48.84454813519376], [-10.110974351712226, -48.14628832786599], [-9.532414457790157, -47.16683353140068], [-12.143033400078405, -47.348130819219136], [-2.084299923598159, -44.81165381338117], [-2.5897756792667845, -44.21675293317469], [-2.952143794118314, -44.00525816343734], [-2.774669684699305, -43.015025313215766], [-3.0365110189949807, -45.10122028162102], [-3.5903279184791677, -44.12434380251394], [-2.322698151798688, -46.07065665997865], [-3.9619632439810815, -45.994823507294846], [-5.131524077041362, -47.1746554406968], [-4.400845140394346, -44.824232207098646], [-5.7857383636812925, -45.66071650038196], [-5.353336645326558, -44.23285633674365], [-3.1737003348196033, -42.401672433893886], [-3.6172491669162206, -43.24739391776225], [-4.397169759024028, -44.01234443666701], [-4.368651644473825, -43.268229416346315], [-5.249776655495306, -43.39704769655291], [-6.38550274524624, -44.13618500646095], [-6.93542432377796, -47.12796598950976], [-8.470260594126229, -46.316719130960045], [-7.12692607971828, -45.36371039638841], [-4.03601345399139, -42.242336470638676], [-3.494979156437253, -41.6218155425262], [-5.077657499085759, -42.59893333604095], [-5.1958814430462095, -41.59519759163464], [-6.169633685593152, -42.671907674061764], [-6.287276801649333, -41.66913736952509], [-8.288322752908323, -45.101939946044276], [-7.653422737949022, -43.97270403128047], [-7.333422838523073, -43.09369829520464], [-9.252626342557628, -44.72426738092094], [-8.805791098487855, -42.87671182091371], [-10.213596593602917, -44.56115167954292], [-6.99254509453809, -41.88255855367779], [-6.898564459068787, -40.87759133225179], [-7.957327724924046, -41.58063147455642], [-3.0971262212149444, -40.59729819652338], [-3.914749749619553, -41.03054925737441], [-3.5045832847181497, -40.71129812050311], [-3.585051158323529, -40.49438705519085], [-3.7345631397828347, -40.2066998668531], [-4.53780812059204, -40.851882147712566], [-4.392886705984582, -40.11572808148439], [-3.3313719401988107, -39.596225160312514], [-3.539259211366618, -39.07984444480908], [-3.6735502671616835, -39.47949761120166], [-3.901440211786165, -39.316370737666986], [-4.377928353543238, -39.39230223944316], [-4.414717170792472, -38.84608539300598], [-4.435865210313522, -38.520866851837134], [-4.337166300540165, -38.1801020741351], [-3.897071042812721, -38.678268159519355], [-4.151921321706742, -38.48530943804438], [-5.231138410054783, -40.519771317666546], [-5.061624457747931, -39.30191756637618], [-6.254275754042114, -40.272327794761594], [-5.806769102487454, -39.48270341112239], [-4.667191272374808, -37.67260186582765], [-5.083219262276004, -38.18126717428399], [-5.712710339860982, -38.697218346202206], [-5.86496688929251, -38.33153293770024], [-6.365731219875604, -38.99679561846542], [-6.64227211958126, -39.53419731261286], [-6.752379393147873, -38.88769531219445], [-7.062427739213872, -40.11921790495145], [-6.966572852152816, -39.403697813414965], [-7.190115179968562, -38.82101835332315], [-7.3112865286365, -39.42618124093633], [-7.496034112624239, -38.962440957542384], [-5.126005833400365, -37.31215319710132], [-5.595381840464054, -37.67408467011774], [-5.811374562811796, -37.29333834657988], [-5.580387546935224, -36.90091321934125], [-6.246711816692471, -38.397402134491685], [-6.146851309422138, -38.089877193119584], [-6.107082157230643, -37.80262446330545], [-5.180991267582274, -36.307714488191245], [-5.596095776947023, -36.33100720779079], [-6.0016292608534165, -36.60618057244663], [-6.489254558262269, -37.16771592299373], [-6.502097133787619, -36.655683978744975], [-5.4682704477886, -35.91106874218568], [-6.18021724168272, -35.99425928202185], [-6.0875805745333516, -35.585845429950155], [-5.337876422644025, -35.61914603432438], [-5.832907832611401, -35.35223446756096], [-5.7953117131311425, -35.24216963482447], [-6.359083515140546, -35.172069487981545], [-6.350399413134134, -37.59371185679976], [-6.858600251183308, -38.50533475771031], [-6.7739854072479915, -37.938091468982115], [-7.014967937126338, -37.311297897881126], [-7.191122361466785, -37.88543207921897], [-7.473086749431018, -38.349329382814624], [-7.505559534284408, -37.738144804860795], [-6.920363223567694, -36.94443045875353], [-6.730602622922923, -36.42446508049201], [-7.712023769738923, -36.87404995627297], [-7.54239261752083, -36.31095457063333], [-6.849767697633591, -36.11182519647778], [-6.624946486011491, -35.706765041755226], [-7.031202473683495, -35.89574937700719], [-6.929302488573923, -35.65088909642953], [-6.820462182337075, -35.43480462554014], [-7.284149899240202, -35.96171224796243], [-7.28734333172169, -35.50688040494396], [-7.607517728776511, -35.7389752725643], [-6.728550255606226, -35.13775714638654], [-7.151594689055511, -35.22327010753052], [-7.102542901195895, -34.947111560549395], [-7.379357273214832, -34.98212891245732], [-7.810467042820782, -40.15799870422491], [-8.032773019759134, -39.24928905916091], [-7.826430559544851, -37.84419922375293], [-8.40801124354837, -37.60593914107321], [-8.709298255165265, -40.24649092078987], [-8.669733469364616, -38.46857885142731], [-8.796989962899396, -37.11256983912459], [-8.280168487017686, -36.301222111256344], [-7.874941309942563, -36.0145114866678], [-7.881701661196463, -35.560142973363874], [-8.990051146482605, -36.52938946821599], [-8.519686906066333, -35.917589113682574], [-7.647405005781427, -35.18968025172992], [-8.123159819319925, -35.338545915738436], [-8.638600589546032, -35.47966138829364], [-7.796299403146798, -34.960679915364345], [-8.047089436510898, -35.02190850439411], [-8.359850623399982, -35.08754346327711], [-3.8543351388834566, -32.42409009704825], [-9.157132136086716, -37.74862286953434], [-9.444969239551204, -37.89507057140539], [-9.436637245002478, -37.39160937359445], [-9.634990993087431, -37.13256150453081], [-9.437167477272354, -36.616701078182736], [-9.785299566175867, -36.66907911192714], [-9.947957824796944, -36.93136282651972], [-9.160650972510581, -36.11487252083069], [-9.196814087933591, -35.78443086780414], [-9.109487048052456, -35.375131079713256], [-9.567751204019416, -35.81561120790579], [-9.906013436031843, -36.229074025989824], [-10.218618543555902, -36.530912557240775], [-9.95825115314656, -37.55205831351742], [-10.443953685940066, -37.61134782125056], [-10.375840108628472, -37.16787487754634], [-10.710170101366643, -37.44022790096882], [-10.910698522653483, -37.981821317473724], [-10.949169549129778, -37.712576142092146], [-10.283645503286595, -36.76641674437369], [-10.530783181065432, -37.08756817370893], [-10.513424106764111, -36.78711062646406], [-10.748714832255226, -37.07450682464191], [-10.939545288781884, -37.15399985741288], [-11.271554217978945, -37.6988836681099], [-11.232887981785183, -37.4066396689476], [-11.959782960737162, -45.50707245852441], [-11.6256216664788, -44.261170399298585], [-13.817423465420472, -45.05484662487391], [-9.687137738067598, -41.63053831105336], [-9.231695558997915, -38.853657541156295], [-11.174711899305272, -43.149139930996455], [-13.357305368513247, -43.50901574061133], [-10.354009207334151, -40.45935998453205], [-11.528358018304534, -41.98879028117482], [-11.24335970752522, -40.7696835858431], [-12.369328335303686, -40.45473881054089], [-12.249320829252733, -39.35072668005027], [-10.027739853312534, -38.302237748415045], [-10.456252155250889, -39.24188924275475], [-10.88867595654813, -38.350946652669926], [-11.518628197642396, -39.32335225094229], [-11.774752112446171, -38.30515476618137], [-11.90383222985734, -37.84631931491802], [-12.410711464503386, -38.31426280277789], [-12.83196679548724, -39.06302839803175], [-12.767759022761693, -38.43869934766307], [-12.617389837905193, -42.536423246076424], [-12.936579853561577, -41.4525362503324], [-13.460785087092288, -40.18977646771402], [-13.609720625228423, -42.03730829155963], [-14.21906433681305, -42.88919932743219], [-14.520568353716264, -41.6234010551151], [-14.652714309197105, -40.62991949563763], [-15.480152042644873, -40.35789856349277], [-13.72197374386612, -39.18963519165438], [-14.96485938253352, -39.42947770600061], [-17.09129270154362, -39.745126946384005], [-15.916776307210647, -46.46624775014403], [-17.629971756443815, -46.34061463365695], [-15.284044596013347, -44.745868017575475], [-15.40656441905051, -43.20993148166105], [-15.705705143609675, -42.15212930942597], [-17.11968180907862, -45.12436763281931], [-16.330473527704488, -44.063100757401905], [-16.659270716730784, -42.99962257301702], [-17.365929213473155, -43.80104279277439], [-18.09126752062628, -43.54994362661057], [-17.448702070160206, -42.67693965870862], [-16.927317632111464, -41.87117747370883], [-16.173638743348608, -41.44244539909745], [-16.332271361427075, -40.69817502285311], [-17.764698578282033, -41.511944170063806], [-17.4534381919007, -40.759084527866534], [-18.967663213083114, -49.88600112924553], [-18.927690793322917, -48.63342795677635], [-18.723370563847322, -47.20345235114425], [-18.89736330468477, -46.23043716018495], [-19.69876805632847, -49.82769664812829], [-19.70163900447312, -48.14313886327834], [-19.612261590047748, -47.029089977643615], [-18.775443780396284, -45.213065907701186], [-18.43041276953954, -44.39999808103672], [-19.62857109718323, -45.46866103391062], [-19.277329255875667, -44.106563670644434], [-18.779627936170833, -43.36127759976213], [-19.724991765165722, -44.69178598692056], [-19.901608066600076, -44.04337340416831], [-19.72969692032364, -43.17368239454144], [-20.371910624360858, -44.26928300406401], [-20.348511900389227, -43.516574835317904], [-20.669126796545125, -43.878721509627], [-18.749543225273843, -42.860686820580064], [-18.24280457428262, -42.450792559117225], [-18.65024367032026, -41.85141311123798], [-18.64890794384412, -41.208522380110935], [-19.367598094709834, -42.59553274171305], [-19.5765433547852, -42.11683446971095], [-19.49237372796385, -41.38442248593736], [-20.139589952746043, -46.19098798040767], [-20.105736039468162, -44.937990277396835], [-20.462781897973663, -45.43141081431204], [-20.876594785998556, -45.31433056897513], [-20.769778963388088, -44.74896382920521], [-20.600662021779247, -46.686384480501275], [-21.158647594973697, -46.73288909548129], [-21.373422970408143, -46.027751444937884], [-21.326483134373884, -45.52904635624544], [-21.997808243238417, -46.41416885278857], [-22.47187149128989, -46.100208840123884], [-22.103902207166445, -45.67096923426453], [-22.09553359190318, -44.99005130544225], [-21.89259753377279, -44.44501984647558], [-22.429572009025016, -45.42431032944224], [-21.366906088775192, -44.90615149979926], [-21.151696881920724, -44.297248464591725], [-21.196806213400734, -43.76398366303789], [-20.25388615135083, -42.716615810028244], [-20.228310132824166, -42.03218161623195], [-20.770557620012305, -43.04603266099734], [-20.885528632001947, -42.26599275993811], [-21.14075615335597, -43.02450949100148], [-21.74711606190288, -43.48170925706109], [-21.555630102108726, -42.60960252198947], [-18.438156564001062, -40.85660775930375], [-18.762013040705924, -40.51396125669935], [-19.363205517872426, -40.74385681544044], [-18.205589701927266, -40.322025050653146], [-18.64733257237445, -39.97178149610731], [-19.472336192560626, -40.13705719976803], [-20.203516756135233, -41.03260617486874], [-19.94354337936336, -40.71660542389259], [-20.274803781187632, -40.30403661047789], [-20.65315112485138, -40.73053840214385], [-20.53228364342258, -41.59417598716412], [-20.850136608553942, -41.29176722499589], [-21.061101237999463, -40.99888922404465], [-21.152541771133006, -41.8584802911907], [-21.536038458049934, -42.06719045143165], [-21.669513419663794, -41.40407898196021], [-22.20990132421239, -41.77274655682063], [-22.113733440742916, -43.09407494475457], [-21.902135046977083, -42.387970624530105], [-22.208657519148343, -42.50900420301389], [-22.00325376716372, -42.034521637375434], [-22.52736324061399, -42.271554782152585], [-22.788797092399562, -42.23233356695628], [-22.548385917046318, -44.23424658232025], [-22.266574033687057, -43.80672092383568], [-23.072640517254786, -44.54087834000501], [-22.44249576218801, -43.55276613765628], [-22.333486854033584, -43.0063787259554], [-22.587311398358896, -42.68276699110581], [-22.85976739834292, -43.870095791286616], [-22.773190012409, -43.21283644952901], [-20.221101359800404, -50.72913417015559], [-20.152957284009098, -50.27430448605644], [-20.233874663499204, -49.861533572246834], [-20.693684645193787, -49.41683996042404], [-21.071646822520023, -48.90356566412496], [-20.65777766751301, -50.39891115039553], [-20.76532763967106, -49.87695833371533], [-21.364161655209532, -49.266961976430004], [-20.48405953848215, -48.660819183391965], [-20.504387878165627, -48.12764947367486], [-20.260554641191074, -47.75932708179579], [-20.465863062648832, -47.41707802104304], [-21.144169944105005, -48.446016715335865], [-21.332545372454753, -47.755170581111294], [-21.067000637104094, -47.39015886592553], [-20.813258763370673, -51.259368338303375], [-21.126925579662885, -50.71842020710942], [-21.38011032442851, -50.24710901462703], [-21.671051049793302, -49.75992822308127], [-22.264071803523546, -49.210749816275026], [-22.277611581349127, -48.620830269168295], [-23.19581951336036, -48.932078759218484], [-22.88617653898801, -48.363365706870574], [-21.7041098385035, -48.524030130274916], [-21.96737811410131, -47.889451725098375], [-22.318952898132775, -47.8900648550255], [-22.392383240870227, -47.35610858684888], [-22.77033871274177, -47.7700785355147], [-21.96532426481972, -47.27896497143492], [-21.721407274049717, -46.91196854506294], [-22.384383104851594, -46.97031594636294], [-22.877372556051064, -47.166892202059095], [-22.662719616771337, -46.63282321707069], [-21.40286530747359, -51.64163279443055], [-21.65131630947093, -51.047447015689805], [-22.20394464740484, -51.73171939477345], [-21.914758750312227, -50.47215009823187], [-22.235590281185907, -49.95644251611647], [-22.595339244635028, -50.54586136057544], [-22.989615474657842, -49.57878856615789], [-23.86683460516426, -49.04558164296898], [-23.540162544495953, -48.235293136584296], [-23.216027940430298, -47.91045375461233], [-24.32498960223373, -48.647387660754724], [-23.870719157939934, -47.58568924708324], [-23.436091887357502, -47.41933517255725], [-23.178275099774066, -46.93461224632371], [-23.024464701534242, -46.51261915315174], [-22.791346729897484, -45.682913545753934], [-23.09596816909605, -45.761848785083124], [-22.711146490466326, -45.08960729036641], [-22.724560567033713, -44.569943657716834], [-23.251020022202358, -45.28544735718309], [-23.606669984531667, -45.31432366786148], [-24.572117964993613, -47.885597238517796], [-24.172042877270407, -47.001056015153964], [-23.45203771418743, -46.90504116950404], [-23.322576633640736, -46.64305870526334], [-23.347544626778326, -46.33890531599292], [-23.81886827132744, -46.95002650924116], [-23.688716650839112, -46.594851067247205], [-23.560643274792838, -46.09553841401793], [-23.863973760524598, -46.250198608469645], [-22.94855096846264, -52.792983271553354], [-23.728224371105846, -53.514163410432985], [-23.61287854294351, -52.75272438450446], [-24.41907346681693, -52.86743245550987], [-24.150206261697647, -52.322717281602024], [-23.007919957381453, -51.85244386212535], [-22.912649017823423, -51.234913109066625], [-23.51903715226877, -52.204634751171746], [-23.468891477442515, -51.89202692267347], [-23.61127373594332, -51.44203061248959], [-23.442523130907855, -51.17625920238669], [-23.90332584326494, -51.5139289744439], [-24.35539066978165, -51.56079437337537], [-23.482625251329736, -50.81799193227342], [-23.23503063912608, -50.534824128892645], [-23.229636620795723, -50.00150772826012], [-23.84016825844016, -50.35398032291596], [-23.67614745276122, -49.80969498096186], [-24.408330386142026, -50.67089797567536], [-24.286688794020574, -49.76010106212781], [-25.05437532595431, -49.992499261119455], [-24.540001215116096, -53.910342810386844], [-25.033359179516438, -53.221517633583574], [-25.300562023971086, -54.094035639551315], [-25.775932569035792, -53.625483673372656], [-25.959395839376246, -53.20763639354419], [-25.97439509666536, -52.63247780678252], [-24.805275580206317, -51.976262769932426], [-25.43808891507659, -51.947035972351635], [-26.250500183969027, -52.04722266306654], [-25.162569844739668, -50.79072539995727], [-25.671807521877493, -50.79234565824005], [-26.150782924142526, -51.24883080801966], [-25.850135989939382, -50.339651217087905], [-24.783867955128123, -49.12668060502285], [-25.750856980098156, -49.873066389497794], [-25.345417086957795, -49.26154986969835], [-25.46837581996213, -48.59020825661721], [-25.989061621317315, -49.43601085736864], [-26.710963219512493, -53.50700254809986], [-26.818781295864515, -52.95624347886262], [-26.711821027448572, -52.289568566362135], [-26.914922019994798, -51.258937630809555], [-27.18136256183264, -52.08458918445952], [-26.41123306691417, -50.30542882061205], [-26.319805549719575, -49.43282879151484], [-26.333905878545767, -48.9334025729174], [-27.286809346915504, -50.78173497474607], [-27.938785675816455, -50.21519357689825], [-27.082321309790366, -49.84187668647862], [-26.899478946256195, -49.21955591184797], [-26.894206998645842, -48.73731529799061], [-27.470690458666414, -49.56665548730173], [-27.392840535580138, -49.00023607776542], [-27.65124139756759, -48.67950469540503], [-27.79522492014775, -49.12524771980303], [-28.308752117239614, -49.06230428843312], [-28.61522740992601, -49.42599726283758], [-28.983506284741022, -49.732570083009534], [-27.768717375781776, -54.548082811552575], [-27.482150304099378, -53.95823888159016], [-27.44079460865034, -53.167951869026325], [-27.611011525953074, -52.333739884034685], [-27.814859462502493, -51.674314811437505], [-28.097635285926156, -54.83811218022838], [-28.410235135981083, -54.76979290034777], [-28.166175573327564, -53.75764139152115], [-28.005885989223952, -53.10849035994826], [-28.255109343901537, -52.21180486635062], [-28.73759849485638, -53.42985087609927], [-28.5450973971621, -52.84067862672155], [-28.95784734881743, -52.558609638709655], [-28.781504268052075, -51.86855581379503], [-28.65099780130825, -50.738703922401584], [-29.080775908955854, -51.30936577206178], [-29.10692990016213, -54.35095129504474], [-29.833944864370746, -54.218515389342265], [-29.721862701614544, -53.39086961847331], [-29.522674527958465, -52.67356257094605], [-29.376378554418647, -51.99961719787869], [-30.100827634433546, -52.750078858856], [-29.56443175898583, -51.42103660324732], [-29.522171302458702, -50.82106595117992], [-30.093680986219805, -51.85737698482036], [-30.040600412302357, -51.12199293829113], [-30.179251543481033, -50.441945012987844], [-30.708843111748735, -51.762295147222524], [-29.549190375765402, -56.03604158212706], [-30.488436538343, -55.01987717914934], [-31.14873454452317, -54.28353960856216], [-31.081195233573254, -53.19610309995397], [-31.396102579990433, -52.45914687794062], [-32.21394908745682, -53.18904439488292], [-32.73683671156143, -52.68495587700912], [-32.75083424716306, -52.971087996265126], [-31.065021223234254, -51.35836633582892], [-19.263064948902795, -56.86841187302585], [-19.99414265583462, -55.96211604275934], [-18.57991986674365, -54.36262602326257], [-20.45796677418269, -54.617554960410494], [-18.968484783985307, -52.846192016531326], [-19.802493411089802, -51.65767832135806], [-20.61198753341322, -52.91785623213119], [-22.073066042396825, -53.08202068169993], [-21.376601727643322, -56.46026783237352], [-22.173849721082462, -54.99456775087679], [-23.110488811644053, -54.34417620708568], [-10.568229664583084, -59.56115472396112], [-9.436439407031596, -57.35868563635837], [-10.17398604718287, -54.64722009313695], [-13.432557997034687, -58.73897580363059], [-11.729017787682478, -57.18096517279698], [-13.096789158029383, -55.70421824902878], [-11.494241591944423, -54.621769110253105], [-13.557816907646954, -53.969796695478855], [-11.242897746227682, -51.69948387359764], [-13.57854302825362, -52.6987779339941], [-14.527765627850258, -51.62999082779208], [-15.083401484400142, -59.69376018733391], [-14.741936789649513, -57.86749520611265], [-15.530446342083888, -58.513687352809114], [-14.473490318914463, -56.9758054875209], [-14.870979932176272, -56.04786034721551], [-15.862703045035927, -55.770106171329594], [-16.668410392528063, -57.16336974101832], [-15.21232841890483, -54.564012584159755], [-16.005751045023448, -53.485140374128726], [-16.687606738595793, -54.657152319848954], [-17.298377678014706, -53.48505172951904], [-13.959434748932457, -50.287553055282096], [-15.424768068994169, -50.80841498134234], [-16.187774606678857, -51.871992221634834], [-13.947582470031266, -48.906130570998755], [-13.80976895075422, -47.42563767395276], [-15.11563106849849, -49.49185979431043], [-16.047740263650233, -49.45300409055205], [-16.392944316574685, -50.91562861005286], [-16.436778736382415, -50.19202895488166], [-16.77407333692542, -49.2086508267349], [-14.201544781524044, -46.55243308487825], [-15.76903186490978, -47.948740378632706], [-17.65821055277647, -51.922153222770845], [-17.17715896502721, -50.209618595067845], [-17.873247238250944, -49.3527194951602], [-16.956922126150474, -48.447620485341204], [-17.824905452616395, -47.951769246230675], [-18.725029788816002, -50.94536453255496], [-15.781166218213121, -47.79685086583529]],\n",
       "                {&quot;blur&quot;: 10, &quot;maxZoom&quot;: 18, &quot;minOpacity&quot;: 0.5, &quot;radius&quot;: 9}\n",
       "            );\n",
       "        \n",
       "    \n",
       "            heat_map_91bfdf5c927620dbf3288ab78d0ae8cb.addTo(map_d85b71504ce3e731bf29b849bccb9345);\n",
       "        \n",
       "&lt;/script&gt;\n",
       "&lt;/html&gt;\" style=\"position:absolute;width:100%;height:100%;left:0;top:0;border:none !important;\" allowfullscreen webkitallowfullscreen mozallowfullscreen></iframe></div></div>"
      ],
      "text/plain": [
       "<folium.folium.Map at 0x741974c6f9b0>"
      ]
     },
     "execution_count": 31,
     "metadata": {},
     "output_type": "execute_result"
    }
   ],
   "source": [
    "# Supondo que você já tenha o DataFrame 'df' com as taxas de inadimplência por região\n",
    "inadimplencia_por_regiao = df.groupby('regiao')['numero_de_operacoes'].sum().reset_index()\n",
    "\n",
    "# Carregar o arquivo shapefile (verifique se o caminho está correto)\n",
    "gdf_uf = gpd.read_file('BR_Microrregioes_2022.shp')\n",
    "\n",
    "# Verifique se a coluna 'regiao' existe no gdf_uf, se não, troque por uma coluna correspondente\n",
    "gdf_uf = gdf_uf.merge(inadimplencia_por_regiao, left_on='geometry', right_on='numero_de_operacoes', how='left')\n",
    "\n",
    "# Criar o mapa com Folium\n",
    "m = folium.Map(location=[-14.2350, -51.9253], max_zoom=4, min_zoom=4, control_scale=True)\n",
    "\n",
    "# Preparando os dados para o HeatMap\n",
    "heat_data = [[row['geometry'].centroid.y, row['geometry'].centroid.x, row['numero_de_operacoes']] \n",
    "             for idx, row in gdf_uf.iterrows()]\n",
    "\n",
    "# Remover valores NaN nas taxas de inadimplência\n",
    "heat_data = [sublist[:-1] if math.isnan(sublist[-1]) else sublist for sublist in heat_data]\n",
    "\n",
    "# Adicionar o HeatMap ao mapa\n",
    "HeatMap(heat_data, radius=9, blur=10).add_to(m)\n",
    "\n",
    "# Exibir o mapa\n",
    "m\n"
   ]
  },
  {
   "cell_type": "markdown",
   "metadata": {},
   "source": [
    "**Insights de Regiões que Mais Usam**\n",
    "\n",
    "- Se a empresa planeja lançar um cartão de crédito, pode ser útil direcionar campanhas promocionais para as regiões Nordeste, Suldeste e Sul,pois são regiões com uso elevado de cartão de crédito, onde a demanda pode ser mais alta, mas manter o controle da inadimplência nessas regiões."
   ]
  },
  {
   "cell_type": "markdown",
   "metadata": {},
   "source": [
    "## Conclusões e Recomendação\n",
    "\n",
    "Com base na análise dos dados, podemos concluir que:\n",
    "\n",
    "1. **O segmento de Aposentados/Pensionistas** é um dos menos arriscados devido ao perfil de endividamento e inadimplência. A empresa pode considerar oferecer condições diferenciadas ou taxas de juros mais baixas para este público.\n",
    "\n",
    "2. **Autônomos, MEI e Empregados de empresas sem fins lucrativos** representam riscos elevados, principalmente em faixas de endividamento de 1 a 5 anos. A empresa pode precisar avaliar a viabilidade de crédito com mais rigor para esses clientes.\n",
    "\n",
    "3. **A região Norte apresenta maiores taxas de inadimplência** e, portanto, pode ser necessário desenvolver estratégias específicas para mitigar o risco na região, como limites de crédito mais baixos ou taxas de juros mais altas.\n",
    "\n",
    "4. **O indexador também é um fator relevante**. Para produtos com indexador pós-fixado ou flutuantes, é importante entender a relação entre as condições do mercado e o comportamento dos clientes para ajustar os riscos de inadimplência.\n",
    "\n",
    "5. **Para o lançamento de um cartão de crédito** deve-se ter cautela e buscar reduzir riscos de inadimplência, é importante avaliar como as políticas de crédito podem ser ajustadas de acordo com os padrões de uso e inadimplência regionais.\n",
    "\n",
    "A empresa deve focar no desenvolvimento de estratégias de crédito mais personalizadas, levando em consideração as particularidades de ocupação, região e indexador para minimizar os riscos de inadimplência e maximizar a rentabilidade do produto.\n",
    "\n"
   ]
  },
  {
   "cell_type": "markdown",
   "metadata": {},
   "source": [
    "# Fim"
   ]
  }
 ],
 "metadata": {
  "kernelspec": {
   "display_name": "mba",
   "language": "python",
   "name": "python3"
  },
  "language_info": {
   "codemirror_mode": {
    "name": "ipython",
    "version": 3
   },
   "file_extension": ".py",
   "mimetype": "text/x-python",
   "name": "python",
   "nbconvert_exporter": "python",
   "pygments_lexer": "ipython3",
   "version": "3.12.3"
  }
 },
 "nbformat": 4,
 "nbformat_minor": 2
}
